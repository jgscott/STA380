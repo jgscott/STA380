{
 "cells": [
  {
   "cell_type": "code",
   "execution_count": null,
   "metadata": {},
   "outputs": [],
   "source": [
    "import numpy as np\n",
    "import torch\n",
    "import torch.nn as nn\n",
    "import torch.optim as optim\n",
    "import seaborn as sns\n",
    "import matplotlib.pyplot as plt"
   ]
  },
  {
   "cell_type": "code",
   "execution_count": null,
   "metadata": {},
   "outputs": [],
   "source": [
    "# Simulate data\n",
    "sample_size = 1000\n",
    "x = np.linspace(-5, 5, sample_size)\n",
    "ground_truth = 3*np.sin(x) + x\n",
    "noise = np.random.normal(0, 1.0, sample_size)\n",
    "y = ground_truth + noise\n",
    "\n",
    "# Scatter plot of raw data and ground truth function\n",
    "sns.scatterplot(x=x, y=y, label='Raw Data', alpha=0.2)\n",
    "sns.lineplot(x=x, y=ground_truth, color='blue', label='Ground Truth')"
   ]
  },
  {
   "cell_type": "code",
   "execution_count": null,
   "metadata": {},
   "outputs": [],
   "source": [
    "# Construct a PyTorch model\n",
    "class SimpleNN(nn.Module):\n",
    "    def __init__(self):\n",
    "        super(SimpleNN, self).__init__()\n",
    "        self.layer1 = nn.Linear(1, 64)\n",
    "        self.layer2 = nn.ReLU()\n",
    "        self.layer3 = nn.Linear(64, 64)\n",
    "        self.layer4 = nn.ReLU()\n",
    "        self.layer5 = nn.Linear(64, 1)\n",
    "\n",
    "    def forward(self, x):\n",
    "        x = self.layer1(x)\n",
    "        x = self.layer2(x)\n",
    "        x = self.layer3(x)\n",
    "        x = self.layer4(x)\n",
    "        x = self.layer5(x)\n",
    "        return x\n",
    "\n",
    "model = SimpleNN()\n",
    "criterion = nn.MSELoss()\n",
    "optimizer = optim.Adam(model.parameters(), lr=0.01)\n",
    "\n"
   ]
  },
  {
   "cell_type": "code",
   "execution_count": null,
   "metadata": {},
   "outputs": [],
   "source": [
    "# Training\n",
    "x_tensor = torch.tensor(x.reshape(-1, 1), dtype=torch.float32)\n",
    "y_tensor = torch.tensor(y.reshape(-1, 1), dtype=torch.float32)\n",
    "\n",
    "epochs = 100\n",
    "for epoch in range(epochs):\n",
    "    optimizer.zero_grad()\n",
    "    predictions = model(x_tensor)\n",
    "    loss = criterion(predictions, y_tensor)\n",
    "    loss.backward()\n",
    "    optimizer.step()\n",
    "\n",
    "    if (epoch) % 10 == 0:\n",
    "        print(f\"Epoch: {epoch+1}, Loss: {loss.item()}\")\n",
    "        y_pred = predictions.detach().numpy()\n",
    "        sns.scatterplot(x=x, y=y, label='Raw Data', alpha=0.2)\n",
    "        sns.lineplot(x=x, y=ground_truth, color='blue', label='Ground Truth')\n",
    "        sns.lineplot(x=x, y=y_pred.squeeze(), color='orange', label='Fitted Function')\n",
    "        plt.legend()\n",
    "        plt.show()"
   ]
  }
 ],
 "metadata": {
  "kernelspec": {
   "display_name": "Python 3",
   "language": "python",
   "name": "python3"
  },
  "language_info": {
   "codemirror_mode": {
    "name": "ipython",
    "version": 3
   },
   "file_extension": ".py",
   "mimetype": "text/x-python",
   "name": "python",
   "nbconvert_exporter": "python",
   "pygments_lexer": "ipython3",
   "version": "3.10.10"
  },
  "orig_nbformat": 4
 },
 "nbformat": 4,
 "nbformat_minor": 2
}
