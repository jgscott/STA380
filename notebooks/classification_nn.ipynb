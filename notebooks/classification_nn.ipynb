{
 "cells": [
  {
   "cell_type": "code",
   "execution_count": null,
   "metadata": {},
   "outputs": [],
   "source": [
    "import numpy as np\n",
    "import torch\n",
    "import torch.nn as nn\n",
    "import torch.optim as optim\n",
    "import seaborn as sns\n",
    "import matplotlib.pyplot as plt\n",
    "from torch.utils.data import TensorDataset, DataLoader\n"
   ]
  },
  {
   "attachments": {},
   "cell_type": "markdown",
   "metadata": {},
   "source": [
    "## An easy problem"
   ]
  },
  {
   "cell_type": "code",
   "execution_count": null,
   "metadata": {},
   "outputs": [],
   "source": [
    "# Generate data\n",
    "sample_size = 1000\n",
    "np.random.seed(42)\n",
    "x1 = np.random.uniform(-1, 1, sample_size)\n",
    "x2 = np.random.uniform(-1, 1, sample_size)\n",
    "ground_truth = (x1**2 + x2**2) < 0.5\n",
    "y = ground_truth.astype(int)\n",
    "\n",
    "# Plot the raw data\n",
    "sns.scatterplot(x=x1, y=x2, hue=y, alpha=0.5)"
   ]
  },
  {
   "cell_type": "code",
   "execution_count": null,
   "metadata": {},
   "outputs": [],
   "source": [
    "\n",
    "# Construct a PyTorch model\n",
    "class ClassifierNN(nn.Module):\n",
    "    def __init__(self):\n",
    "        super(ClassifierNN, self).__init__()\n",
    "        self.layer1 = nn.Linear(2, 64)\n",
    "        self.layer2 = nn.ReLU()\n",
    "        self.layer3 = nn.Linear(64, 64)\n",
    "        self.layer4 = nn.ReLU()\n",
    "        self.layer5 = nn.Linear(64, 2)\n",
    "\n",
    "    def forward(self, x):\n",
    "        x = self.layer1(x)\n",
    "        x = self.layer2(x)\n",
    "        x = self.layer3(x)\n",
    "        x = self.layer4(x)\n",
    "        x = self.layer5(x)\n",
    "        return x\n",
    "\n",
    "model = ClassifierNN()\n",
    "criterion = nn.CrossEntropyLoss()\n",
    "optimizer = optim.Adam(model.parameters(), lr=0.01)"
   ]
  },
  {
   "cell_type": "code",
   "execution_count": null,
   "metadata": {},
   "outputs": [],
   "source": [
    "\n",
    "# Prepare data for training\n",
    "x_tensor = torch.tensor(np.column_stack((x1, x2)), dtype=torch.float32)\n",
    "y_tensor = torch.tensor(y, dtype=torch.long)\n",
    "\n",
    "# Training\n",
    "epochs = 50\n",
    "for epoch in range(epochs):\n",
    "    optimizer.zero_grad()\n",
    "    predictions = model(x_tensor)\n",
    "    loss = criterion(predictions, y_tensor)\n",
    "    loss.backward()\n",
    "    optimizer.step()\n",
    "\n",
    "    if epoch == 0 or (epoch + 1) % 10 == 0:\n",
    "        print(f\"Epoch: {epoch+1}, Loss: {loss.item()}\")\n",
    "        _, y_pred = torch.max(predictions, 1)\n",
    "        sns.scatterplot(x=x1, y=x2, hue=y_pred.numpy(), alpha=0.5)\n",
    "        plt.show()"
   ]
  },
  {
   "attachments": {},
   "cell_type": "markdown",
   "metadata": {},
   "source": [
    "## A harder problem"
   ]
  },
  {
   "cell_type": "code",
   "execution_count": null,
   "metadata": {},
   "outputs": [],
   "source": [
    "# Generate data\n",
    "sample_size = int(5e3)\n",
    "np.random.seed(42)\n",
    "x1 = np.random.uniform(-1, 1, sample_size)\n",
    "x2 = np.random.uniform(-1, 1, sample_size)\n",
    "\n",
    "# Generate 10 classes with non-linear decision boundaries\n",
    "y = np.zeros(sample_size, dtype=int)\n",
    "angle = np.linspace(0, 2 * np.pi, 10, endpoint=False)\n",
    "radius = np.linspace(0.5, 1, 10)\n",
    "for i in range(10):\n",
    "    y[((x1 - radius[i] * np.cos(angle[i])) ** 2 + (x2 - radius[i] * np.sin(angle[i])) ** 2 < 0.1)] = i\n",
    "\n"
   ]
  },
  {
   "cell_type": "code",
   "execution_count": null,
   "metadata": {},
   "outputs": [],
   "source": [
    "# Plot the raw data (sample of 500)\n",
    "idx = np.random.choice(sample_size, 500, replace=False)\n",
    "sns.scatterplot(x=x1[idx], y=x2[idx], hue=y[idx], palette='tab10', legend='full', alpha=0.2)\n",
    "\n",
    "# Label each data point with its ground truth label\n",
    "for i in range(len(idx)):\n",
    "    plt.text(x1[idx[i]], x2[idx[i]], y[idx[i]], fontsize=8)\n",
    "\n",
    "plt.legend(bbox_to_anchor=(1.05, 1), loc='upper left', borderaxespad=0.)\n",
    "plt.show()"
   ]
  },
  {
   "cell_type": "code",
   "execution_count": null,
   "metadata": {},
   "outputs": [],
   "source": [
    "class ClassifierNN(nn.Module):\n",
    "    def __init__(self):\n",
    "        super(ClassifierNN, self).__init__()\n",
    "        self.layer1 = nn.Sequential(\n",
    "            nn.Linear(2, 64),\n",
    "            nn.ReLU()\n",
    "        )\n",
    "        self.layer2 = nn.Sequential(\n",
    "            nn.Linear(64, 64),\n",
    "            nn.ReLU()\n",
    "        )\n",
    "        self.layer3 = nn.Sequential(\n",
    "            nn.Linear(64, 64),\n",
    "            nn.ReLU()\n",
    "        )\n",
    "        self.output_layer = nn.Linear(64, 10)\n",
    "\n",
    "    def forward(self, x):\n",
    "        x = self.layer1(x)\n",
    "        x = self.layer2(x)\n",
    "        x = self.layer3(x)\n",
    "        x = self.output_layer(x)\n",
    "        return x"
   ]
  },
  {
   "cell_type": "code",
   "execution_count": null,
   "metadata": {},
   "outputs": [],
   "source": [
    "# Convert data to tensors\n",
    "x_data = torch.tensor(np.column_stack((x1, x2)), dtype=torch.float32)\n",
    "y_data = torch.tensor(y, dtype=torch.long)\n",
    "\n",
    "# Define dataset and dataloader\n",
    "dataset = TensorDataset(x_data, y_data)\n",
    "dataloader = DataLoader(dataset, batch_size=64, shuffle=True)\n"
   ]
  },
  {
   "cell_type": "code",
   "execution_count": null,
   "metadata": {},
   "outputs": [],
   "source": [
    "model = ClassifierNN()\n",
    "criterion = nn.CrossEntropyLoss()\n",
    "optimizer = optim.Adam(model.parameters(), lr=0.001)\n",
    "\n",
    "# Training\n",
    "epochs = 5\n",
    "for epoch in range(epochs):\n",
    "    for batch_x, batch_y in dataloader:\n",
    "        optimizer.zero_grad()\n",
    "        predictions = model(batch_x)\n",
    "        loss = criterion(predictions, batch_y)\n",
    "        loss.backward()\n",
    "        optimizer.step()\n",
    "\n",
    "    print(f\"Epoch: {epoch+1}, Loss: {loss.item()}\")\n",
    "    with torch.no_grad():\n",
    "        full_pred = model(x_data)\n",
    "        _, y_pred = torch.max(full_pred, 1)\n",
    "        labels = y_data.numpy()\n",
    "        fig, (ax1, ax2) = plt.subplots(1, 2, figsize=(10, 5))\n",
    "        sns.scatterplot(x=x1[idx], y=x2[idx], hue=labels[idx], palette='tab10', legend='full', alpha=0.2, ax=ax1)\n",
    "        for i in range(len(idx)):\n",
    "            ax1.text(x1[idx[i]], x2[idx[i]], labels[idx[i]], fontsize=8)\n",
    "        ax1.set_title(\"Ground Truth Labels\")\n",
    "        sns.scatterplot(x=x1[idx], y=x2[idx], hue=y_pred.numpy()[idx], palette='tab10', legend='full', alpha=0.2, ax=ax2)\n",
    "        for i in range(len(idx)):\n",
    "            ax2.text(x1[idx[i]], x2[idx[i]], y_pred.numpy()[idx][i], fontsize=8)\n",
    "        ax2.set_title(\"Model Predicted Labels\")\n",
    "        plt.legend(bbox_to_anchor=(1.05, 1), loc='upper left', borderaxespad=0.)\n",
    "        plt.show()"
   ]
  }
 ],
 "metadata": {
  "kernelspec": {
   "display_name": "Python 3",
   "language": "python",
   "name": "python3"
  },
  "language_info": {
   "codemirror_mode": {
    "name": "ipython",
    "version": 3
   },
   "file_extension": ".py",
   "mimetype": "text/x-python",
   "name": "python",
   "nbconvert_exporter": "python",
   "pygments_lexer": "ipython3",
   "version": "3.10.10"
  },
  "orig_nbformat": 4
 },
 "nbformat": 4,
 "nbformat_minor": 2
}
